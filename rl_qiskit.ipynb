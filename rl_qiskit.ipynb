{
 "cells": [
  {
   "cell_type": "code",
   "execution_count": 1,
   "id": "dc2fa771",
   "metadata": {},
   "outputs": [],
   "source": [
    "import gymnasium as gym\n",
    "import numpy as np\n",
    "from qiskit import QuantumCircuit, transpile\n",
    "from qiskit_aer import AerSimulator"
   ]
  },
  {
   "cell_type": "code",
   "execution_count": 2,
   "id": "b6119536",
   "metadata": {},
   "outputs": [],
   "source": [
    "# Environment\n",
    "env = gym.make(\"FrozenLake-v1\", is_slippery=False, map_name=\"4x4\")"
   ]
  },
  {
   "cell_type": "code",
   "execution_count": 3,
   "id": "7ab8984c",
   "metadata": {},
   "outputs": [],
   "source": [
    "# Q-Learning parameters\n",
    "n_actions = env.action_space.n\n",
    "n_states = env.observation_space.n\n",
    "q_table = np.zeros((n_states, n_actions))\n",
    "\n",
    "learning_rate = 0.1\n",
    "discount_factor = 0.95\n",
    "epsilon = 1.0\n",
    "min_epsilon = 0.01\n",
    "decay_rate = 0.995\n",
    "episodes = 500"
   ]
  },
  {
   "cell_type": "code",
   "execution_count": 4,
   "id": "711cc4ad",
   "metadata": {},
   "outputs": [],
   "source": [
    "# Quantum backend\n",
    "backend = AerSimulator()\n",
    "\n",
    "def quantum_reward_modulation():\n",
    "    \"\"\"Quantum circuit to modulate rewards.\"\"\"\n",
    "    qc = QuantumCircuit(1, 1)\n",
    "    # Random angles for a single-qubit unitary\n",
    "    theta = np.random.uniform(0, np.pi)\n",
    "    phi = np.random.uniform(0, np.pi)\n",
    "    lam = np.random.uniform(0, np.pi)\n",
    "    \n",
    "    qc.u(theta, phi, lam, 0)\n",
    "    qc.measure(0, 0)\n",
    "\n",
    "    # Transpile and run the circuit\n",
    "    transpiled_qc = transpile(qc, backend)\n",
    "    job = backend.run(transpiled_qc, shots=100)\n",
    "    result = job.result()\n",
    "    counts = result.get_counts()\n",
    "\n",
    "    # Calculate probability of measuring '0'\n",
    "    p0 = counts.get('0', 0) / 100\n",
    "    return p0  # Returns a value in [0, 1]"
   ]
  },
  {
   "cell_type": "code",
   "execution_count": 5,
   "id": "9181af5c",
   "metadata": {},
   "outputs": [
    {
     "name": "stdout",
     "output_type": "stream",
     "text": [
      "Episode 100/500, Epsilon: 0.6058\n",
      "Episode 200/500, Epsilon: 0.3670\n"
     ]
    },
    {
     "ename": "KeyboardInterrupt",
     "evalue": "",
     "output_type": "error",
     "traceback": [
      "\u001b[31m---------------------------------------------------------------------------\u001b[39m",
      "\u001b[31mKeyboardInterrupt\u001b[39m                         Traceback (most recent call last)",
      "\u001b[36mCell\u001b[39m\u001b[36m \u001b[39m\u001b[32mIn[5]\u001b[39m\u001b[32m, line 18\u001b[39m\n\u001b[32m     15\u001b[39m new_state, reward, done, truncated, info = env.step(action)\n\u001b[32m     17\u001b[39m \u001b[38;5;66;03m# Quantum reward modifier\u001b[39;00m\n\u001b[32m---> \u001b[39m\u001b[32m18\u001b[39m modifier = \u001b[43mquantum_reward_modulation\u001b[49m\u001b[43m(\u001b[49m\u001b[43m)\u001b[49m\n\u001b[32m     19\u001b[39m modified_reward = reward * (\u001b[32m1\u001b[39m + \u001b[32m0.1\u001b[39m * modifier)  \u001b[38;5;66;03m# Slight reward scaling\u001b[39;00m\n\u001b[32m     21\u001b[39m \u001b[38;5;66;03m# Q-Learning Update\u001b[39;00m\n",
      "\u001b[36mCell\u001b[39m\u001b[36m \u001b[39m\u001b[32mIn[4]\u001b[39m\u001b[32m, line 16\u001b[39m, in \u001b[36mquantum_reward_modulation\u001b[39m\u001b[34m()\u001b[39m\n\u001b[32m     13\u001b[39m qc.measure(\u001b[32m0\u001b[39m, \u001b[32m0\u001b[39m)\n\u001b[32m     15\u001b[39m \u001b[38;5;66;03m# Transpile and run the circuit\u001b[39;00m\n\u001b[32m---> \u001b[39m\u001b[32m16\u001b[39m transpiled_qc = \u001b[43mtranspile\u001b[49m\u001b[43m(\u001b[49m\u001b[43mqc\u001b[49m\u001b[43m,\u001b[49m\u001b[43m \u001b[49m\u001b[43mbackend\u001b[49m\u001b[43m)\u001b[49m\n\u001b[32m     17\u001b[39m job = backend.run(transpiled_qc, shots=\u001b[32m100\u001b[39m)\n\u001b[32m     18\u001b[39m result = job.result()\n",
      "\u001b[36mFile \u001b[39m\u001b[32mc:\\Users\\jaswa\\.conda\\envs\\qua\\Lib\\site-packages\\qiskit\\compiler\\transpiler.py:269\u001b[39m, in \u001b[36mtranspile\u001b[39m\u001b[34m(circuits, backend, basis_gates, coupling_map, initial_layout, layout_method, routing_method, translation_method, scheduling_method, dt, approximation_degree, seed_transpiler, optimization_level, callback, output_name, unitary_synthesis_method, unitary_synthesis_plugin_config, target, hls_config, init_method, optimization_method, ignore_backend_supplied_default_methods, num_processes, qubits_initially_zero)\u001b[39m\n\u001b[32m    264\u001b[39m _check_circuits_coupling_map(circuits, coupling_map, backend)\n\u001b[32m    266\u001b[39m \u001b[38;5;66;03m# Edge cases require using the old model (loose constraints) instead of building a target,\u001b[39;00m\n\u001b[32m    267\u001b[39m \u001b[38;5;66;03m# but we don't populate the passmanager config with loose constraints unless it's one of\u001b[39;00m\n\u001b[32m    268\u001b[39m \u001b[38;5;66;03m# the known edge cases to control the execution path.\u001b[39;00m\n\u001b[32m--> \u001b[39m\u001b[32m269\u001b[39m pm = \u001b[43mgenerate_preset_pass_manager\u001b[49m\u001b[43m(\u001b[49m\n\u001b[32m    270\u001b[39m \u001b[43m    \u001b[49m\u001b[43moptimization_level\u001b[49m\u001b[43m,\u001b[49m\n\u001b[32m    271\u001b[39m \u001b[43m    \u001b[49m\u001b[43mtarget\u001b[49m\u001b[43m=\u001b[49m\u001b[43mtarget\u001b[49m\u001b[43m,\u001b[49m\n\u001b[32m    272\u001b[39m \u001b[43m    \u001b[49m\u001b[43mbackend\u001b[49m\u001b[43m=\u001b[49m\u001b[43mbackend\u001b[49m\u001b[43m,\u001b[49m\n\u001b[32m    273\u001b[39m \u001b[43m    \u001b[49m\u001b[43mbasis_gates\u001b[49m\u001b[43m=\u001b[49m\u001b[43mbasis_gates\u001b[49m\u001b[43m,\u001b[49m\n\u001b[32m    274\u001b[39m \u001b[43m    \u001b[49m\u001b[43mcoupling_map\u001b[49m\u001b[43m=\u001b[49m\u001b[43mcoupling_map\u001b[49m\u001b[43m,\u001b[49m\n\u001b[32m    275\u001b[39m \u001b[43m    \u001b[49m\u001b[43minitial_layout\u001b[49m\u001b[43m=\u001b[49m\u001b[43minitial_layout\u001b[49m\u001b[43m,\u001b[49m\n\u001b[32m    276\u001b[39m \u001b[43m    \u001b[49m\u001b[43mlayout_method\u001b[49m\u001b[43m=\u001b[49m\u001b[43mlayout_method\u001b[49m\u001b[43m,\u001b[49m\n\u001b[32m    277\u001b[39m \u001b[43m    \u001b[49m\u001b[43mrouting_method\u001b[49m\u001b[43m=\u001b[49m\u001b[43mrouting_method\u001b[49m\u001b[43m,\u001b[49m\n\u001b[32m    278\u001b[39m \u001b[43m    \u001b[49m\u001b[43mtranslation_method\u001b[49m\u001b[43m=\u001b[49m\u001b[43mtranslation_method\u001b[49m\u001b[43m,\u001b[49m\n\u001b[32m    279\u001b[39m \u001b[43m    \u001b[49m\u001b[43mscheduling_method\u001b[49m\u001b[43m=\u001b[49m\u001b[43mscheduling_method\u001b[49m\u001b[43m,\u001b[49m\n\u001b[32m    280\u001b[39m \u001b[43m    \u001b[49m\u001b[43mapproximation_degree\u001b[49m\u001b[43m=\u001b[49m\u001b[43mapproximation_degree\u001b[49m\u001b[43m,\u001b[49m\n\u001b[32m    281\u001b[39m \u001b[43m    \u001b[49m\u001b[43mseed_transpiler\u001b[49m\u001b[43m=\u001b[49m\u001b[43mseed_transpiler\u001b[49m\u001b[43m,\u001b[49m\n\u001b[32m    282\u001b[39m \u001b[43m    \u001b[49m\u001b[43munitary_synthesis_method\u001b[49m\u001b[43m=\u001b[49m\u001b[43munitary_synthesis_method\u001b[49m\u001b[43m,\u001b[49m\n\u001b[32m    283\u001b[39m \u001b[43m    \u001b[49m\u001b[43munitary_synthesis_plugin_config\u001b[49m\u001b[43m=\u001b[49m\u001b[43munitary_synthesis_plugin_config\u001b[49m\u001b[43m,\u001b[49m\n\u001b[32m    284\u001b[39m \u001b[43m    \u001b[49m\u001b[43mhls_config\u001b[49m\u001b[43m=\u001b[49m\u001b[43mhls_config\u001b[49m\u001b[43m,\u001b[49m\n\u001b[32m    285\u001b[39m \u001b[43m    \u001b[49m\u001b[43minit_method\u001b[49m\u001b[43m=\u001b[49m\u001b[43minit_method\u001b[49m\u001b[43m,\u001b[49m\n\u001b[32m    286\u001b[39m \u001b[43m    \u001b[49m\u001b[43moptimization_method\u001b[49m\u001b[43m=\u001b[49m\u001b[43moptimization_method\u001b[49m\u001b[43m,\u001b[49m\n\u001b[32m    287\u001b[39m \u001b[43m    \u001b[49m\u001b[43mdt\u001b[49m\u001b[43m=\u001b[49m\u001b[43mdt\u001b[49m\u001b[43m,\u001b[49m\n\u001b[32m    288\u001b[39m \u001b[43m    \u001b[49m\u001b[43mqubits_initially_zero\u001b[49m\u001b[43m=\u001b[49m\u001b[43mqubits_initially_zero\u001b[49m\u001b[43m,\u001b[49m\n\u001b[32m    289\u001b[39m \u001b[43m\u001b[49m\u001b[43m)\u001b[49m\n\u001b[32m    291\u001b[39m out_circuits = pm.run(circuits, callback=callback, num_processes=num_processes)\n\u001b[32m    293\u001b[39m \u001b[38;5;28;01mfor\u001b[39;00m name, circ \u001b[38;5;129;01min\u001b[39;00m \u001b[38;5;28mzip\u001b[39m(output_name, out_circuits):\n",
      "\u001b[36mFile \u001b[39m\u001b[32mc:\\Users\\jaswa\\.conda\\envs\\qua\\Lib\\site-packages\\qiskit\\transpiler\\preset_passmanagers\\generate_preset_pass_manager.py:221\u001b[39m, in \u001b[36mgenerate_preset_pass_manager\u001b[39m\u001b[34m(optimization_level, backend, target, basis_gates, coupling_map, initial_layout, layout_method, routing_method, translation_method, scheduling_method, approximation_degree, seed_transpiler, unitary_synthesis_method, unitary_synthesis_plugin_config, hls_config, init_method, optimization_method, dt, qubits_initially_zero, _skip_target)\u001b[39m\n\u001b[32m    219\u001b[39m timing_constraints = _parse_timing_constraints(backend)\n\u001b[32m    220\u001b[39m coupling_map = _parse_coupling_map(coupling_map, backend)\n\u001b[32m--> \u001b[39m\u001b[32m221\u001b[39m basis_gates, name_mapping = \u001b[43m_parse_basis_gates\u001b[49m\u001b[43m(\u001b[49m\u001b[43mbasis_gates\u001b[49m\u001b[43m,\u001b[49m\u001b[43m \u001b[49m\u001b[43mbackend\u001b[49m\u001b[43m)\u001b[49m\n\u001b[32m    223\u001b[39m \u001b[38;5;66;03m# Check if coupling map has been provided (either standalone or through backend)\u001b[39;00m\n\u001b[32m    224\u001b[39m \u001b[38;5;66;03m# with user-defined basis_gates, and whether these have 3q or more.\u001b[39;00m\n\u001b[32m    225\u001b[39m \u001b[38;5;28;01mif\u001b[39;00m coupling_map \u001b[38;5;129;01mis\u001b[39;00m \u001b[38;5;129;01mnot\u001b[39;00m \u001b[38;5;28;01mNone\u001b[39;00m \u001b[38;5;129;01mand\u001b[39;00m basis_gates \u001b[38;5;129;01mis\u001b[39;00m \u001b[38;5;129;01mnot\u001b[39;00m \u001b[38;5;28;01mNone\u001b[39;00m:\n",
      "\u001b[36mFile \u001b[39m\u001b[32mc:\\Users\\jaswa\\.conda\\envs\\qua\\Lib\\site-packages\\qiskit\\transpiler\\preset_passmanagers\\generate_preset_pass_manager.py:349\u001b[39m, in \u001b[36m_parse_basis_gates\u001b[39m\u001b[34m(basis_gates, backend)\u001b[39m\n\u001b[32m    345\u001b[39m     \u001b[38;5;28;01mreturn\u001b[39;00m \u001b[38;5;28mlist\u001b[39m(instructions), name_mapping\n\u001b[32m    347\u001b[39m instructions = instructions \u001b[38;5;129;01mor\u001b[39;00m backend.operation_names\n\u001b[32m    348\u001b[39m name_mapping.update(\n\u001b[32m--> \u001b[39m\u001b[32m349\u001b[39m     {name: \u001b[43mbackend\u001b[49m\u001b[43m.\u001b[49m\u001b[43mtarget\u001b[49m.operation_from_name(name) \u001b[38;5;28;01mfor\u001b[39;00m name \u001b[38;5;129;01min\u001b[39;00m backend.operation_names}\n\u001b[32m    350\u001b[39m )\n\u001b[32m    352\u001b[39m \u001b[38;5;66;03m# Check for custom instructions\u001b[39;00m\n\u001b[32m    353\u001b[39m \u001b[38;5;28;01mfor\u001b[39;00m inst \u001b[38;5;129;01min\u001b[39;00m instructions:\n",
      "\u001b[36mFile \u001b[39m\u001b[32mc:\\Users\\jaswa\\.conda\\envs\\qua\\Lib\\site-packages\\qiskit_aer\\backends\\aerbackend.py:421\u001b[39m, in \u001b[36mAerBackend.target\u001b[39m\u001b[34m(self)\u001b[39m\n\u001b[32m    416\u001b[39m         target.add_instruction(\n\u001b[32m    417\u001b[39m             instruction=qiskit_control_flow_mapping[inst_name],\n\u001b[32m    418\u001b[39m             name=inst_name,\n\u001b[32m    419\u001b[39m         )\n\u001b[32m    420\u001b[39m     \u001b[38;5;28;01melse\u001b[39;00m:\n\u001b[32m--> \u001b[39m\u001b[32m421\u001b[39m         \u001b[43mtarget\u001b[49m\u001b[43m.\u001b[49m\u001b[43madd_instruction\u001b[49m\u001b[43m(\u001b[49m\n\u001b[32m    422\u001b[39m \u001b[43m            \u001b[49m\u001b[43minstruction\u001b[49m\u001b[43m=\u001b[49m\u001b[43minst_name_map\u001b[49m\u001b[43m[\u001b[49m\u001b[43minst_name\u001b[49m\u001b[43m]\u001b[49m\u001b[43m,\u001b[49m\n\u001b[32m    423\u001b[39m \u001b[43m            \u001b[49m\u001b[43mproperties\u001b[49m\u001b[43m=\u001b[49m\u001b[43mprop_name_map\u001b[49m\u001b[43m.\u001b[49m\u001b[43mget\u001b[49m\u001b[43m(\u001b[49m\u001b[43minst_name\u001b[49m\u001b[43m,\u001b[49m\u001b[43m \u001b[49m\u001b[38;5;28;43;01mNone\u001b[39;49;00m\u001b[43m)\u001b[49m\u001b[43m,\u001b[49m\n\u001b[32m    424\u001b[39m \u001b[43m            \u001b[49m\u001b[43mname\u001b[49m\u001b[43m=\u001b[49m\u001b[43minst_name\u001b[49m\u001b[43m,\u001b[49m\n\u001b[32m    425\u001b[39m \u001b[43m        \u001b[49m\u001b[43m)\u001b[49m\n\u001b[32m    427\u001b[39m \u001b[38;5;28;01mif\u001b[39;00m \u001b[38;5;28mself\u001b[39m._coupling_map \u001b[38;5;129;01mis\u001b[39;00m \u001b[38;5;129;01mnot\u001b[39;00m \u001b[38;5;28;01mNone\u001b[39;00m:\n\u001b[32m    428\u001b[39m     target._coupling_graph = \u001b[38;5;28mself\u001b[39m._coupling_map.graph.copy()\n",
      "\u001b[36mFile \u001b[39m\u001b[32mc:\\Users\\jaswa\\.conda\\envs\\qua\\Lib\\site-packages\\qiskit\\transpiler\\target.py:369\u001b[39m, in \u001b[36mTarget.add_instruction\u001b[39m\u001b[34m(self, instruction, properties, name)\u001b[39m\n\u001b[32m    367\u001b[39m \u001b[38;5;28;01mif\u001b[39;00m instruction_name \u001b[38;5;129;01min\u001b[39;00m \u001b[38;5;28mself\u001b[39m._gate_map:\n\u001b[32m    368\u001b[39m     \u001b[38;5;28;01mraise\u001b[39;00m \u001b[38;5;167;01mAttributeError\u001b[39;00m(\u001b[33mf\u001b[39m\u001b[33m\"\u001b[39m\u001b[33mInstruction \u001b[39m\u001b[38;5;132;01m{\u001b[39;00minstruction_name\u001b[38;5;132;01m}\u001b[39;00m\u001b[33m is already in the target\u001b[39m\u001b[33m\"\u001b[39m)\n\u001b[32m--> \u001b[39m\u001b[32m369\u001b[39m \u001b[38;5;28;43msuper\u001b[39;49m\u001b[43m(\u001b[49m\u001b[43m)\u001b[49m\u001b[43m.\u001b[49m\u001b[43madd_instruction\u001b[49m\u001b[43m(\u001b[49m\u001b[43minstruction\u001b[49m\u001b[43m,\u001b[49m\u001b[43m \u001b[49m\u001b[43minstruction_name\u001b[49m\u001b[43m,\u001b[49m\u001b[43m \u001b[49m\u001b[43mproperties\u001b[49m\u001b[43m)\u001b[49m\n\u001b[32m    370\u001b[39m \u001b[38;5;28mself\u001b[39m._gate_map[instruction_name] = properties\n\u001b[32m    371\u001b[39m \u001b[38;5;28mself\u001b[39m._coupling_graph = \u001b[38;5;28;01mNone\u001b[39;00m\n",
      "\u001b[31mKeyboardInterrupt\u001b[39m: "
     ]
    }
   ],
   "source": [
    "# Training loop\n",
    "for episode in range(episodes):\n",
    "    state = env.reset()[0]  # Extract the state from the reset tuple\n",
    "    done = False\n",
    "    truncated = False\n",
    "\n",
    "    while not done and not truncated:\n",
    "        # Exploration vs Exploitation\n",
    "        if np.random.uniform(0, 1) < epsilon:\n",
    "            action = env.action_space.sample()\n",
    "        else:\n",
    "            action = np.argmax(q_table[state, :])\n",
    "\n",
    "        # Step in the environment\n",
    "        new_state, reward, done, truncated, info = env.step(action)\n",
    "\n",
    "        # Quantum reward modifier\n",
    "        modifier = quantum_reward_modulation()\n",
    "        modified_reward = reward * (1 + 0.1 * modifier)  # Slight reward scaling\n",
    "\n",
    "        # Q-Learning Update\n",
    "        q_table[state, action] += learning_rate * (\n",
    "            modified_reward + discount_factor * np.max(q_table[new_state, :]) - q_table[state, action]\n",
    "        )\n",
    "\n",
    "        state = new_state\n",
    "\n",
    "    # Decay exploration\n",
    "    epsilon = max(min_epsilon, epsilon * decay_rate)\n",
    "\n",
    "    # Optional: Print progress every 100 episodes\n",
    "    if (episode + 1) % 100 == 0:\n",
    "        print(f\"Episode {episode + 1}/{episodes}, Epsilon: {epsilon:.4f}\")"
   ]
  },
  {
   "cell_type": "code",
   "execution_count": null,
   "id": "16733b99",
   "metadata": {},
   "outputs": [],
   "source": [
    "print(\"Training finished.\\n\")\n",
    "print(\"Q-table:\")\n",
    "print(q_table)"
   ]
  },
  {
   "cell_type": "code",
   "execution_count": null,
   "id": "3d7b48ee",
   "metadata": {},
   "outputs": [],
   "source": [
    "# Optional: Evaluate the learned policy\n",
    "def evaluate_policy(n_eval_episodes=100):\n",
    "    successes = 0\n",
    "    for _ in range(n_eval_episodes):\n",
    "        state = env.reset()[0]  # Extract the state\n",
    "        done = False\n",
    "        truncated = False\n",
    "        while not done and not truncated:\n",
    "            action = np.argmax(q_table[state, :])\n",
    "            state, reward, done, truncated, _ = env.step(action)\n",
    "            if reward == 1.0:  # Reached the goal\n",
    "                successes += 1\n",
    "                break\n",
    "    print(f\"\\nEvaluation: Success rate = {successes / n_eval_episodes * 100:.2f}%\")"
   ]
  },
  {
   "cell_type": "code",
   "execution_count": null,
   "id": "68b8c6c2",
   "metadata": {},
   "outputs": [],
   "source": [
    "evaluate_policy()"
   ]
  }
 ],
 "metadata": {
  "kernelspec": {
   "display_name": "qua",
   "language": "python",
   "name": "python3"
  },
  "language_info": {
   "codemirror_mode": {
    "name": "ipython",
    "version": 3
   },
   "file_extension": ".py",
   "mimetype": "text/x-python",
   "name": "python",
   "nbconvert_exporter": "python",
   "pygments_lexer": "ipython3",
   "version": "3.12.9"
  }
 },
 "nbformat": 4,
 "nbformat_minor": 5
}
